{
 "cells": [
  {
   "cell_type": "code",
   "execution_count": null,
   "metadata": {},
   "outputs": [],
   "source": [
    "from array import array\n",
    "from itertools import count\n",
    "from tkinter import Image\n",
    "import PIL\n",
    "import numpy as np\n",
    "import cv2\n",
    "from sklearn.svm import LinearSVC\n",
    "\n",
    "class Model:\n",
    "\n",
    "    def __init__(self):\n",
    "        self.model = LinearSVC()\n",
    "    \n",
    "    def train_model(self, counters):\n",
    "        img_list = np.array([])\n",
    "        class_list = np.array([])\n",
    "\n",
    "        for i in range(1, counters[0]):\n",
    "            img = cv2.imread(f\"1/frame{i}.jpg\")[:,:,0]\n",
    "            img = img.reshape(16950)\n",
    "            img_list = np.append(img_list, [img])\n",
    "            class_list = np.append(class_list, 1)\n",
    "\n",
    "\n",
    "        for i in range(1, counters[1]):\n",
    "            img = cv2.imread(f\"2/frame{i}.jpg\")[:,:,0]\n",
    "            img = img.reshape(16950)\n",
    "            img_list = np.append(img_list, [img])\n",
    "            class_list = np.append(class_list, 2)\n",
    "        \n",
    "        img_list = img_list.reshape(counters[0] + counters[1] - 2, 16950)\n",
    "        self.model.fit(img_list, class_list)\n",
    "        print(\"Model successfully trained!\")\n",
    "\n",
    "    def predict(self, frame):\n",
    "        frame = frame[1]\n",
    "        cv2.imwrite(\"frame.jpg\", cv2.cvtColor(frame, cv2.COLOR_RGB2GRAY))\n",
    "        img = PIL.Image.open(\"frame.jpg\")\n",
    "        img.thumbnail((150,150), PIL.Image.ANTIALIAS)\n",
    "        img.save(\"frame.jpg\")\n",
    "\n",
    "        img = cv2.imread(\"frame.jpg\")[:,:,0]\n",
    "        img = img.reshape(16950)\n",
    "        prediction = self.model.predict([img])\n",
    "        return prediction[0]"
   ]
  },
  {
   "cell_type": "code",
   "execution_count": 4,
   "metadata": {},
   "outputs": [
    {
     "name": "stdout",
     "output_type": "stream",
     "text": [
      "Successfully renamed!\n"
     ]
    }
   ],
   "source": [
    "import os\n",
    "base_dir = \"C:\\\\Users\\\\HP\\\\Desktop\\\\AI Projects\\\\AI Bench Press RPE Calculator\"\n",
    "def rename_img(state: str):\n",
    "    i = 1\n",
    "    try:\n",
    "        for imgpath in os.listdir(os.path.join(base_dir, f\"new {state} pics\")):\n",
    "            new_base_path = os.path.join(base_dir, f\"new {state} pics\")\n",
    "            os.rename(os.path.join(new_base_path, imgpath), os.path.join(new_base_path, f\"{state}_{i}.jpg\"))\n",
    "            i += 1\n",
    "    except Exception as e:\n",
    "        print(e)\n",
    "    else:\n",
    "        print(\"Successfully renamed!\")\n",
    "\n",
    "rename_img(\"contracted\")"
   ]
  },
  {
   "cell_type": "code",
   "execution_count": 6,
   "metadata": {},
   "outputs": [
    {
     "name": "stdout",
     "output_type": "stream",
     "text": [
      "(2250, 4000)\n",
      "(280, 500)\n"
     ]
    }
   ],
   "source": [
    "import cv2\n",
    "path = \"C:\\\\Users\\\\HP\\\\Desktop\\\\AI Projects\\\\AI Bench Press RPE Calculator\\\\new extended pics\\\\extended_1.jpg\"\n",
    "img = cv2.imread(path)[:,:,0]\n",
    "print(img.shape)\n",
    "# cv2.imshow(\"image\", img)\n",
    "# dimensions of image - 2250*4000*3\n",
    "img = cv2.resize(img, (500,400))\n",
    "img = img[120:,:]\n",
    "print(img.shape)\n",
    "\n",
    "# cropped_image = img[1000:2000,2000:3000]\n",
    "cv2.imshow(\"image\", img)\n",
    "# cv2.imshow(\"cropped image\", cropped_image)\n",
    "cv2.waitKey(0)\n"
   ]
  },
  {
   "cell_type": "code",
   "execution_count": null,
   "metadata": {},
   "outputs": [],
   "source": []
  },
  {
   "cell_type": "code",
   "execution_count": null,
   "metadata": {},
   "outputs": [],
   "source": []
  },
  {
   "cell_type": "code",
   "execution_count": null,
   "metadata": {},
   "outputs": [],
   "source": []
  },
  {
   "cell_type": "code",
   "execution_count": null,
   "metadata": {},
   "outputs": [],
   "source": []
  }
 ],
 "metadata": {
  "kernelspec": {
   "display_name": "Python 3.10.2 64-bit",
   "language": "python",
   "name": "python3"
  },
  "language_info": {
   "codemirror_mode": {
    "name": "ipython",
    "version": 3
   },
   "file_extension": ".py",
   "mimetype": "text/x-python",
   "name": "python",
   "nbconvert_exporter": "python",
   "pygments_lexer": "ipython3",
   "version": "3.10.2"
  },
  "orig_nbformat": 4,
  "vscode": {
   "interpreter": {
    "hash": "a9cff5a362bc38ef45d817ae74b1af54d6a076e3d773891282bce078b815ba34"
   }
  }
 },
 "nbformat": 4,
 "nbformat_minor": 2
}
